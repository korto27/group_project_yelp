{
 "cells": [
  {
   "cell_type": "code",
   "execution_count": 1,
   "metadata": {},
   "outputs": [
    {
     "name": "stdout",
     "output_type": "stream",
     "text": [
      "[[{'name': 'john'}, {'name': 'john'}, {'name': 'john'}], [{'name': 'john'}, {'name': 'john'}, {'name': 'john'}]]\n"
     ]
    }
   ],
   "source": [
    "test_list = [[{\"name\": \"john\"},\n",
    "            {\"name\": \"john\"},\n",
    "            {\"name\": \"john\"}], \n",
    "             [{\"name\": \"john\"},\n",
    "            {\"name\": \"john\"},\n",
    "            {\"name\": \"john\"}]]\n",
    "print(test_list)"
   ]
  },
  {
   "cell_type": "code",
   "execution_count": 2,
   "metadata": {},
   "outputs": [
    {
     "name": "stdout",
     "output_type": "stream",
     "text": [
      "[{'name': 'john'}, {'name': 'john'}, {'name': 'john'}]\n"
     ]
    }
   ],
   "source": [
    "print(test_list[1])"
   ]
  },
  {
   "cell_type": "code",
   "execution_count": 5,
   "metadata": {},
   "outputs": [
    {
     "name": "stdout",
     "output_type": "stream",
     "text": [
      "{'name': 'john'}\n"
     ]
    }
   ],
   "source": [
    "print(test_list[1][2])"
   ]
  },
  {
   "cell_type": "code",
   "execution_count": null,
   "metadata": {},
   "outputs": [],
   "source": []
  }
 ],
 "metadata": {
  "kernelspec": {
   "display_name": "Python 3",
   "language": "python",
   "name": "python3"
  },
  "language_info": {
   "codemirror_mode": {
    "name": "ipython",
    "version": 3
   },
   "file_extension": ".py",
   "mimetype": "text/x-python",
   "name": "python",
   "nbconvert_exporter": "python",
   "pygments_lexer": "ipython3",
   "version": "3.6.5"
  }
 },
 "nbformat": 4,
 "nbformat_minor": 2
}
